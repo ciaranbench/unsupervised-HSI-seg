{
 "cells": [
  {
   "cell_type": "code",
   "execution_count": 1,
   "id": "b68f0904",
   "metadata": {},
   "outputs": [],
   "source": [
    "import scipy.io\n",
    "import mat73\n",
    "import numpy as np\n",
    "\n",
    "end_to_end = scipy.io.loadmat('end_to_end.mat')\n",
    "end_to_end = end_to_end['output']\n",
    "\n",
    "CAE_kmeans = scipy.io.loadmat('cae_kmeans.mat')\n",
    "CAE_kmeans = CAE_kmeans['cae_kmeans']\n",
    "\n",
    "spec_kmeans = scipy.io.loadmat('spec_kmeans.mat')\n",
    "spec_kmeans = spec_kmeans['spec_kmeans']\n",
    "\n",
    "gt = scipy.io.loadmat('gt_image.mat')\n",
    "\n",
    "gt = gt['ground_truth']\n",
    "\n",
    "\n"
   ]
  },
  {
   "cell_type": "code",
   "execution_count": 2,
   "id": "c1c45618",
   "metadata": {
    "scrolled": true
   },
   "outputs": [
    {
     "name": "stdout",
     "output_type": "stream",
     "text": [
      "0.8136046984376822\n",
      "0.8011907857191236\n",
      "0.2709353546761644\n"
     ]
    }
   ],
   "source": [
    "from sklearn.metrics.cluster import normalized_mutual_info_score\n",
    "gt = np.squeeze((gt))\n",
    "\n",
    "end_to_end = np.squeeze((end_to_end))\n",
    "CAE_kmeans = np.squeeze((CAE_kmeans))\n",
    "spec_kmeans = np.squeeze((spec_kmeans))\n",
    "\n",
    "print(normalized_mutual_info_score(gt,end_to_end))\n",
    "print(normalized_mutual_info_score(gt,CAE_kmeans))\n",
    "print(normalized_mutual_info_score(gt,spec_kmeans))"
   ]
  },
  {
   "cell_type": "code",
   "execution_count": 3,
   "id": "f3f9bc77",
   "metadata": {
    "scrolled": true
   },
   "outputs": [
    {
     "name": "stdout",
     "output_type": "stream",
     "text": [
      "0.8587941825453094\n",
      "0.8458769552596692\n",
      "0.2417367705330114\n"
     ]
    }
   ],
   "source": [
    "from sklearn.metrics.cluster import adjusted_rand_score\n",
    "\n",
    "print(adjusted_rand_score(gt,end_to_end))\n",
    "print(adjusted_rand_score(gt,CAE_kmeans))\n",
    "print(adjusted_rand_score(gt,spec_kmeans))"
   ]
  },
  {
   "cell_type": "code",
   "execution_count": null,
   "id": "d943a504",
   "metadata": {},
   "outputs": [],
   "source": []
  }
 ],
 "metadata": {
  "kernelspec": {
   "display_name": "Python 3 (ipykernel)",
   "language": "python",
   "name": "python3"
  },
  "language_info": {
   "codemirror_mode": {
    "name": "ipython",
    "version": 3
   },
   "file_extension": ".py",
   "mimetype": "text/x-python",
   "name": "python",
   "nbconvert_exporter": "python",
   "pygments_lexer": "ipython3",
   "version": "3.9.7"
  }
 },
 "nbformat": 4,
 "nbformat_minor": 5
}
